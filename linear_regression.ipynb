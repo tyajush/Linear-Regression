{
  "nbformat": 4,
  "nbformat_minor": 0,
  "metadata": {
    "colab": {
      "name": "Untitled2.ipynb",
      "provenance": []
    },
    "kernelspec": {
      "name": "python3",
      "display_name": "Python 3"
    }
  },
  "cells": [
    {
      "cell_type": "code",
      "metadata": {
        "id": "MgTB0ra77bxs",
        "colab_type": "code",
        "colab": {}
      },
      "source": [
        "import numpy as np\n",
        "class LinearRegression:\n",
        "\n",
        "  def __init__(self,lr=0.001,n_iters=1000):\n",
        "    self.lr = lr\n",
        "    self.n_iters = n_iters\n",
        "    self.weights = None\n",
        "    self.bias = None\n",
        "\n",
        "  def fit(self, X, y):\n",
        "    n_samples,n_features = X.shape\n",
        "    self.weights = np.zeros(n_features)\n",
        "    self.bias = 0\n",
        "\n",
        "    for _ in range(self.n_iters):\n",
        "      y_predicted = np.dot(X,self.weights)+self.bias\n",
        "      dw = (1/n_samples)*np.dot(X.T , (y_predicted - y))\n",
        "      db = (1/n_samples)*np.sum(y_predicted-y)\n",
        "      self.weights -= self.lr * dw\n",
        "      self.bias -= self.lr*db\n",
        "\n",
        "\n",
        "  def predict(self,X):\n",
        "    y_predicted = np.dot(X,self.weights)+self.bias \n",
        "    return y_predicted\n"
      ],
      "execution_count": 0,
      "outputs": []
    },
    {
      "cell_type": "code",
      "metadata": {
        "id": "SLK3Fii792zL",
        "colab_type": "code",
        "colab": {
          "base_uri": "https://localhost:8080/",
          "height": 34
        },
        "outputId": "61bd90ea-2d20-4ff8-db92-1c88f509ef27"
      },
      "source": [
        "from sklearn.model_selection import train_test_split\n",
        "from sklearn import datasets \n",
        "\n",
        "X,y = datasets.make_regression(n_samples = 100 , n_features = 1 , noise = 20 , random_state = 4)\n",
        "\n",
        "X_train , X_test , y_train , y_test = train_test_split(X,y,test_size = 0.3,random_state=101)\n",
        "\n",
        "\n",
        "regressor = LinearRegression(lr=0.05)\n",
        "regressor.fit(X_train,y_train)\n",
        "predicted = regressor.predict(X_test)\n",
        "\n",
        "def mse(y_true , y_predicted):\n",
        "  return np.mean((y_true - y_predicted)**2)\n",
        "\n",
        "mse_value = mse(y_test , predicted)\n",
        "print(mse_value)\n"
      ],
      "execution_count": 12,
      "outputs": [
        {
          "output_type": "stream",
          "text": [
            "306.8284703597626\n"
          ],
          "name": "stdout"
        }
      ]
    }
  ]
}